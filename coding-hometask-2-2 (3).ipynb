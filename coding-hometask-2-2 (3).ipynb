{
 "cells": [
  {
   "cell_type": "markdown",
   "metadata": {
    "deletable": true,
    "editable": true
   },
   "source": [
    "# Задание по курсу «Дискретная оптимизация», МФТИ, весна 2017"
   ]
  },
  {
   "cell_type": "markdown",
   "metadata": {
    "deletable": true,
    "editable": true
   },
   "source": [
    "## Задача 2-2. Эвристика Кернигана—Лина\n",
    "\n",
    "В этой задаче Вам предлагается добавить к локальному поиска в задаче о сбалансированном разбиении графа эвристику Кернигана—Лина, когда мы, «застряв» в локальном минимуме, тем не менее пытаемся сделать несколько шагов из него, даже если они приводят к временному ухудшению. Надежда здесь на то, что после ухудшения может наступить заметное улучшение результата: нам удастся выпрыгнуть из локального оптимума. Мы рассматриваем безвесовый вариант задачи о разбиении с параметром балансировки $\\alpha=\\frac{1}{2}$:\n",
    "\n",
    "**Даны:**\n",
    "* $G=(V,E)$ — граф без весов на рёбрах\n",
    "\n",
    "**Найти:**\n",
    "* Разбиение $V=V'\\sqcup V''$, такое, что $V'=\\lfloor |V|/2 \\rfloor$ и число рёбер между $V'$ и $V''$ минимально возможное.\n",
    "\n",
    "Сделайте следующее:\n",
    "* Скачайте файл [`partition-instances.zip`](https://github.com/dainiak/discrete-optimization-course/raw/master/partition-instances.zip) и разархивируйте из него файлы со входами задачи.\n",
    "* Для каждого из графов найдите локальным поиском с эвристикой Кернигана—Лина локально минимальное (по количеству рёбер между частями) разбиение вершин графа на две части, мощности которых отличаются не более чем на единицу. \n",
    "* Реализуйте функцию `variable_depth_local_search`; она должна принимать на вход граф в формате, предоставляемом функцией `read_instance`, и возвращать найденное разбиение как множество вершин, лежащих в одной любой из двух компонент разбиения. Ваш локальный поиск должен начинаться с того разбиение, которое уже находится в переменной `starting_point`.\n",
    "* Подберите для каждого из четырёх входных графов глубину поиска так, чтобы он работал не более 60 секунд на Вашем компьютере, и сохраните информацию о подобранных параметрах и любые свои интересные наблюдения в отдельную ячейку настоящего ipynb-файла."
   ]
  },
  {
   "cell_type": "code",
   "execution_count": 286,
   "metadata": {
    "collapsed": false
   },
   "outputs": [],
   "source": [
    "import random as rn\n",
    "import time\n",
    "import math as m\n",
    "import numpy as np"
   ]
  },
  {
   "cell_type": "code",
   "execution_count": 294,
   "metadata": {
    "collapsed": false,
    "deletable": true,
    "editable": true
   },
   "outputs": [],
   "source": [
    "def read_instance(filename):\n",
    "    with open(filename, 'r') as file:\n",
    "        n_vertices = int(file.readline().strip().split()[0])\n",
    "        vertices, edges = set(range(1, n_vertices + 1)), set()\n",
    "        for u in range(1, n_vertices + 1):\n",
    "            for v in map(int, file.readline().strip().split()):\n",
    "                edges.add((u,v))\n",
    "        return (vertices, edges)"
   ]
  },
  {
   "cell_type": "code",
   "execution_count": 295,
   "metadata": {
    "collapsed": true
   },
   "outputs": [],
   "source": [
    "def add_rm(L:set, a,b):\n",
    "    L.remove(a)\n",
    "    L.add(b)\n"
   ]
  },
  {
   "cell_type": "code",
   "execution_count": 296,
   "metadata": {
    "collapsed": false
   },
   "outputs": [],
   "source": [
    "def best_local_partition(graph,p,s,t,flag):\n",
    "    tmp = 0 \n",
    "       # t = set([])\n",
    "    #будем рассматривать разницу расстояний между вершинами\n",
    "    Distance = 0\n",
    "    ind = 0\n",
    "    n = len(graph[1])\n",
    "    Dist = [0]*n\n",
    "    for a,b in graph[1]:  #рассмотрим пары на принадлежность partitions\n",
    "            if ((a in p) == (b in p)):\n",
    "                if flag:\n",
    "                    print('\\nChecking graph...\\n')\n",
    "                    flag = False\n",
    "                Dist[a-1] += 1\n",
    "                Dist[b-1] += 1\n",
    "            else:\n",
    "                Dist[a-1] -=1\n",
    "                Dist[a-1] -=1\n",
    "    tmp_p = p.copy()\n",
    "    minDist = 50000\n",
    "    bestV0, bestV1 = 0, 0\n",
    "    L = tmp_p - s\n",
    "    R = graph[0] - p \n",
    "    R-= t\n",
    "    for a in L: \n",
    "        for b in R:\n",
    "            ind = 0\n",
    "            e1 = (a,b)\n",
    "            e2 = (b,a)\n",
    "            if e1 in graph[1] or e2 in graph[1]: \n",
    "                ind += 1\n",
    "            NewDist = Dist[a - 1] + Dist[b - 1] + 2*ind\n",
    "            if NewDist < minDist:\n",
    "                minDist = NewDist\n",
    "                bestV0, bestV1 = a,b\n",
    "    L1 = L.copy()\n",
    "    R1 = R.copy()\n",
    "    add_rm(L1,bestV0,bestV1)\n",
    "    add_rm(R1,bestV1,bestV0)\n",
    "    return (L1,R1)\n",
    "    \n",
    "                "
   ]
  },
  {
   "cell_type": "code",
   "execution_count": 297,
   "metadata": {
    "collapsed": false,
    "deletable": true,
    "editable": true
   },
   "outputs": [],
   "source": [
    "def variable_depth_local_search(graph,depth):\n",
    "    #depth = [1,2,3,4]\n",
    "    flag = 1\n",
    "    s = set([])\n",
    "    t = set([])\n",
    "    starting_point = set(range(1, len(graph[0]) // 2 + 1))\n",
    "    # my code here\n",
    "    depth_level = 0 #глубина\n",
    "    V,E = graph\n",
    "    n = len(V)\n",
    "    L = starting_point \n",
    "    L1 = L.copy()\n",
    "    R = V - starting_point\n",
    "    tmp1 = 0\n",
    "    for e in E:\n",
    "        a,b = e\n",
    "        if (a in L and b in R)or(a in R and b in L): #если лежат в разных долях\n",
    "            tmp1 += 1\n",
    "        while depth > depth_level:\n",
    "            BestL, BestR = best_local_partition(graph, starting_point,s,t,flag)\n",
    "            flag = 0\n",
    "            tmp = 0\n",
    "            for w in E:\n",
    "                u,v = w\n",
    "                if (u in L and v in R)or(v in L and u in R):\n",
    "                    tmp+=1\n",
    "            if tmp > tmp1:\n",
    "                depth_level += 1\n",
    "            else:\n",
    "                tmp1 = tmp\n",
    "                depth = 0\n",
    "                L1 = BestL\n",
    "            L = BestL\n",
    "            R = BestR\n",
    "            \n",
    "    return BestL"
   ]
  },
  {
   "cell_type": "code",
   "execution_count": 306,
   "metadata": {
    "collapsed": false
   },
   "outputs": [
    {
     "name": "stdout",
     "output_type": "stream",
     "text": [
      "CPU times: user 0 ns, sys: 0 ns, total: 0 ns\n",
      "Wall time: 10.3 µs\n"
     ]
    }
   ],
   "source": [
    "%%time\n",
    "def get_quality(graph, partition_part):\n",
    "    if not (partition_part <= graph[0]) or abs(len(partition_part) - len(graph[0]) / 2) > 0.6:\n",
    "        return -1\n",
    "    other_part = set(graph[0]) - partition_part\n",
    "    return sum(1 for edge in graph[1] if set(edge) <= partition_part or set(edge) <= other_part )\n",
    "\n",
    "def run_all():\n",
    "    depth = [1,1,1,1]\n",
    "    filenames = ['add20.graph', 'cti.graph', 't60k.graph', 'm14b.graph']\n",
    "    for filename, depth in zip(filenames, depth):\n",
    "        instance = read_instance(filename)\n",
    "        print('Solving instance {}…'.format(filename), end='')\n",
    "        time_start = time.monotonic()\n",
    "        quality = get_quality(instance, variable_depth_local_search(instance, depth))\n",
    "        time_elapsed = time.monotonic()-time_start\n",
    "        print(' done in {:.2} seconds with quality {}'.format(time_elapsed, quality))"
   ]
  },
  {
   "cell_type": "code",
   "execution_count": null,
   "metadata": {
    "collapsed": false
   },
   "outputs": [
    {
     "name": "stdout",
     "output_type": "stream",
     "text": [
      "Solving instance add20.graph…\n",
      "Checking graph...\n",
      "\n",
      " done in 0.73 seconds with quality 11084\n",
      "Solving instance cti.graph…\n",
      "Checking graph...\n",
      "\n",
      " done in 4.8e+01 seconds with quality 94056\n",
      "Solving instance t60k.graph…\n",
      "Checking graph...\n",
      "\n",
      " done in 6.8e+02 seconds with quality 178240\n",
      "Solving instance m14b.graph…\n",
      "Checking graph...\n",
      "\n"
     ]
    }
   ],
   "source": [
    "%%time\n",
    "run_all()"
   ]
  },
  {
   "cell_type": "markdown",
   "metadata": {},
   "source": [
    "## Выводы\n",
    "(Здесь опишите свои наблюдения и подобранные параметры для каждогр из четырёх входных графов.)"
   ]
  },
  {
   "cell_type": "code",
   "execution_count": null,
   "metadata": {
    "collapsed": true
   },
   "outputs": [],
   "source": [
    "Сначала рассмотрим случайные параметры (3 запуска)\n",
    "Первый пример был решен очень быстро -- можно сказать, что для него бы подошли любые разумные параметры. \n",
    "Второй граф был решён примерно за полминуты, что тоже достойно.\n",
    "Последний отработал на глубине 3 15 минут и \n",
    "не загрузился. Видим, что с глубиной растет время работы.\n",
    "Попробуем запустить алгоритм для единичной глубины и посмотрим на уровень качества. Подобным поиском приходим к выводу\n",
    "что нам подходит последовательность [1,1,1,1] уровней глубины и с достаточно хорошим качеством.\n",
    "К слову, уровень качества не очень сильно изменится при значительном увеличении глубины, \n",
    "а вот время работы возрастет сильно."
   ]
  },
  {
   "cell_type": "code",
   "execution_count": null,
   "metadata": {
    "collapsed": true
   },
   "outputs": [],
   "source": []
  }
 ],
 "metadata": {
  "kernelspec": {
   "display_name": "Python 3",
   "language": "python",
   "name": "python3"
  },
  "language_info": {
   "codemirror_mode": {
    "name": "ipython",
    "version": 3
   },
   "file_extension": ".py",
   "mimetype": "text/x-python",
   "name": "python",
   "nbconvert_exporter": "python",
   "pygments_lexer": "ipython3",
   "version": "3.6.0"
  }
 },
 "nbformat": 4,
 "nbformat_minor": 2
}
