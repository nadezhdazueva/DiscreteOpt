{
 "cells": [
  {
   "cell_type": "markdown",
   "metadata": {},
   "source": [
    "## Задача 4-1. Линейное программирование: формулирование задачи.\n",
    "\n",
    "В этой задаче Вам предлагается закодировать задачу TSP для заданного графа в виде задачи ЦЛП с помощью условий MTZ (Миллера—Таккера—Землина) и поработать с библиотекой [PuLP](https://pypi.python.org/pypi/PuLP/1.6.5). Если Вы используете дистрибутив Anaconda, то эта библиотека не находится утилитой conda, зато совершенно нормально устанавливается с помощью pip:\n",
    "\n",
    "`pip install pulp`\n",
    "\n",
    "Вам дана функция `dist15`, которая по двум номерам вершин возвращает вес ребра между ними. Номера от 1 до 15, пример взят [отсюда](https://people.sc.fsu.edu/~jburkardt/datasets/tsp/tsp.html).\n",
    "Нужно построить соответствующую задачу ЦЛП и решить её средствами PuLP, чтобы найти оптимальный гамильтонов цикл в графе. Сделать это следует в функции `solve_tsp_with_lp`, которая получает на вход размерность задачи и весовую функцию, а на выходе даёт перестановку номеров вершин графа (нумеруемых с единицы), соответствующую оптимальному гамильтонову циклу."
   ]
  },
  {
   "cell_type": "code",
   "execution_count": 3,
   "metadata": {
    "collapsed": true
   },
   "outputs": [],
   "source": [
    "from typing import List, Callable\n",
    "import itertools\n",
    "\n",
    "import pulp"
   ]
  },
  {
   "cell_type": "code",
   "execution_count": 4,
   "metadata": {
    "collapsed": true
   },
   "outputs": [],
   "source": [
    "def dist15(i: int, j: int) -> int:\n",
    "    return (\n",
    "        list(\n",
    "            map(\n",
    "                int, \n",
    "                filter(\n",
    "                    lambda s: len(s.strip()) > 0, '''\n",
    "                    0 29 82 46 68 52 72 42 51 55 29 74 23 72 46 \n",
    "                    29  0 55 46 42 43 43 23 23 31 41 51 11 52 21 \n",
    "                    82 55  0 68 46 55 23 43 41 29 79 21 64 31 51 \n",
    "                    46 46 68  0 82 15 72 31 62 42 21 51 51 43 64 \n",
    "                    68 42 46 82  0 74 23 52 21 46 82 58 46 65 23 \n",
    "                    52 43 55 15 74  0 61 23 55 31 33 37 51 29 59 \n",
    "                    72 43 23 72 23 61  0 42 23 31 77 37 51 46 33 \n",
    "                    42 23 43 31 52 23 42  0 33 15 37 33 33 31 37 \n",
    "                    51 23 41 62 21 55 23 33  0 29 62 46 29 51 11 \n",
    "                    55 31 29 42 46 31 31 15 29  0 51 21 41 23 37 \n",
    "                    29 41 79 21 82 33 77 37 62 51  0 65 42 59 61 \n",
    "                    74 51 21 51 58 37 37 33 46 21 65  0 61 11 55 \n",
    "                    23 11 64 51 46 51 51 33 29 41 42 61  0 62 23 \n",
    "                    72 52 31 43 65 29 46 31 51 23 59 11 62  0 59 \n",
    "                    46 21 51 64 23 59 33 37 11 37 61 55 23 59  0\n",
    "                    '''.split()\n",
    "                )\n",
    "            )\n",
    "        )[(i-1) * 15 + (j-1)]\n",
    "    )"
   ]
  },
  {
   "cell_type": "code",
   "execution_count": 15,
   "metadata": {
    "collapsed": false
   },
   "outputs": [
    {
     "ename": "KeyError",
     "evalue": "(0, 1)",
     "output_type": "error",
     "traceback": [
      "\u001b[0;31m---------------------------------------------------------------------------\u001b[0m",
      "\u001b[0;31mKeyError\u001b[0m                                  Traceback (most recent call last)",
      "\u001b[0;32m<ipython-input-15-dcea39297268>\u001b[0m in \u001b[0;36m<module>\u001b[0;34m()\u001b[0m\n\u001b[0;32m----> 1\u001b[0;31m \u001b[0mget_ipython\u001b[0m\u001b[0;34m(\u001b[0m\u001b[0;34m)\u001b[0m\u001b[0;34m.\u001b[0m\u001b[0mrun_cell_magic\u001b[0m\u001b[0;34m(\u001b[0m\u001b[0;34m'time'\u001b[0m\u001b[0;34m,\u001b[0m \u001b[0;34m''\u001b[0m\u001b[0;34m,\u001b[0m \u001b[0;34m'def solve_tsp_with_lp(n: int, distance_function: Callable[[int, int], int]) -> List[int]:\\n    problem = pulp.LpProblem(name=\"Transport Problem to LP\", sense=pulp.LpMinimize)\\n    x = pulp.LpVariable.dicts(\\'x\\', range(0, n),lowBound = 0,upBound = 1,cat = pulp.LpInteger)\\n    u = pulp.LpVariable.dicts(\\'u\\', list(itertools.permutations(range(0,n), 2)),lowBound = 1,upBound = n,cat = pulp.LpInteger)\\n    lp.objective = pulp.LpAffineExpression(\\n        [(x[e], distance_function(e[0] + 1, e[1] + 1)) for e in list(itertools.permutations(range(0,n), 2))]\\n    )\\n    \\n    for i in range(n):\\n        lp += pulp.LpAffineExpression([(x[edge], 1)\\n                                for edge in list(itertools.permutations(all_vertices, 2)) if edge[0] == i]) == 1\\n        \\n        lp += pulp.LpAffineExpression([(x[edge], 1)\\n                                for edge in list(itertools.permutations(all_vertices, 2)) if edge[1] == i]) == 1\\n       \\n    for edge in list(itertools.permutations(all_vertices, 2)):\\n        k, j = edge[0], edge[1]\\n        if j == 0:\\n            pass\\n        lp += (u[k] - u[j] + n * x[edge] <= n - 1) \\n    lp.solve()\\n    print(lp.objective.value())\\n    tmp = 0\\n    \\n    return list(map(lambda a: a + 1, route))\\n\\nprint(\\' ⟶ \\'.join(map(str, solve_tsp_with_lp(15, dist15))))'\u001b[0m\u001b[0;34m)\u001b[0m\u001b[0;34m\u001b[0m\u001b[0m\n\u001b[0m",
      "\u001b[0;32m/home/nestyme/anaconda3/lib/python3.6/site-packages/IPython/core/interactiveshell.py\u001b[0m in \u001b[0;36mrun_cell_magic\u001b[0;34m(self, magic_name, line, cell)\u001b[0m\n\u001b[1;32m   2113\u001b[0m             \u001b[0mmagic_arg_s\u001b[0m \u001b[0;34m=\u001b[0m \u001b[0mself\u001b[0m\u001b[0;34m.\u001b[0m\u001b[0mvar_expand\u001b[0m\u001b[0;34m(\u001b[0m\u001b[0mline\u001b[0m\u001b[0;34m,\u001b[0m \u001b[0mstack_depth\u001b[0m\u001b[0;34m)\u001b[0m\u001b[0;34m\u001b[0m\u001b[0m\n\u001b[1;32m   2114\u001b[0m             \u001b[0;32mwith\u001b[0m \u001b[0mself\u001b[0m\u001b[0;34m.\u001b[0m\u001b[0mbuiltin_trap\u001b[0m\u001b[0;34m:\u001b[0m\u001b[0;34m\u001b[0m\u001b[0m\n\u001b[0;32m-> 2115\u001b[0;31m                 \u001b[0mresult\u001b[0m \u001b[0;34m=\u001b[0m \u001b[0mfn\u001b[0m\u001b[0;34m(\u001b[0m\u001b[0mmagic_arg_s\u001b[0m\u001b[0;34m,\u001b[0m \u001b[0mcell\u001b[0m\u001b[0;34m)\u001b[0m\u001b[0;34m\u001b[0m\u001b[0m\n\u001b[0m\u001b[1;32m   2116\u001b[0m             \u001b[0;32mreturn\u001b[0m \u001b[0mresult\u001b[0m\u001b[0;34m\u001b[0m\u001b[0m\n\u001b[1;32m   2117\u001b[0m \u001b[0;34m\u001b[0m\u001b[0m\n",
      "\u001b[0;32m<decorator-gen-59>\u001b[0m in \u001b[0;36mtime\u001b[0;34m(self, line, cell, local_ns)\u001b[0m\n",
      "\u001b[0;32m/home/nestyme/anaconda3/lib/python3.6/site-packages/IPython/core/magic.py\u001b[0m in \u001b[0;36m<lambda>\u001b[0;34m(f, *a, **k)\u001b[0m\n\u001b[1;32m    186\u001b[0m     \u001b[0;31m# but it's overkill for just that one bit of state.\u001b[0m\u001b[0;34m\u001b[0m\u001b[0;34m\u001b[0m\u001b[0m\n\u001b[1;32m    187\u001b[0m     \u001b[0;32mdef\u001b[0m \u001b[0mmagic_deco\u001b[0m\u001b[0;34m(\u001b[0m\u001b[0marg\u001b[0m\u001b[0;34m)\u001b[0m\u001b[0;34m:\u001b[0m\u001b[0;34m\u001b[0m\u001b[0m\n\u001b[0;32m--> 188\u001b[0;31m         \u001b[0mcall\u001b[0m \u001b[0;34m=\u001b[0m \u001b[0;32mlambda\u001b[0m \u001b[0mf\u001b[0m\u001b[0;34m,\u001b[0m \u001b[0;34m*\u001b[0m\u001b[0ma\u001b[0m\u001b[0;34m,\u001b[0m \u001b[0;34m**\u001b[0m\u001b[0mk\u001b[0m\u001b[0;34m:\u001b[0m \u001b[0mf\u001b[0m\u001b[0;34m(\u001b[0m\u001b[0;34m*\u001b[0m\u001b[0ma\u001b[0m\u001b[0;34m,\u001b[0m \u001b[0;34m**\u001b[0m\u001b[0mk\u001b[0m\u001b[0;34m)\u001b[0m\u001b[0;34m\u001b[0m\u001b[0m\n\u001b[0m\u001b[1;32m    189\u001b[0m \u001b[0;34m\u001b[0m\u001b[0m\n\u001b[1;32m    190\u001b[0m         \u001b[0;32mif\u001b[0m \u001b[0mcallable\u001b[0m\u001b[0;34m(\u001b[0m\u001b[0marg\u001b[0m\u001b[0;34m)\u001b[0m\u001b[0;34m:\u001b[0m\u001b[0;34m\u001b[0m\u001b[0m\n",
      "\u001b[0;32m/home/nestyme/anaconda3/lib/python3.6/site-packages/IPython/core/magics/execution.py\u001b[0m in \u001b[0;36mtime\u001b[0;34m(self, line, cell, local_ns)\u001b[0m\n\u001b[1;32m   1178\u001b[0m         \u001b[0;32melse\u001b[0m\u001b[0;34m:\u001b[0m\u001b[0;34m\u001b[0m\u001b[0m\n\u001b[1;32m   1179\u001b[0m             \u001b[0mst\u001b[0m \u001b[0;34m=\u001b[0m \u001b[0mclock2\u001b[0m\u001b[0;34m(\u001b[0m\u001b[0;34m)\u001b[0m\u001b[0;34m\u001b[0m\u001b[0m\n\u001b[0;32m-> 1180\u001b[0;31m             \u001b[0mexec\u001b[0m\u001b[0;34m(\u001b[0m\u001b[0mcode\u001b[0m\u001b[0;34m,\u001b[0m \u001b[0mglob\u001b[0m\u001b[0;34m,\u001b[0m \u001b[0mlocal_ns\u001b[0m\u001b[0;34m)\u001b[0m\u001b[0;34m\u001b[0m\u001b[0m\n\u001b[0m\u001b[1;32m   1181\u001b[0m             \u001b[0mend\u001b[0m \u001b[0;34m=\u001b[0m \u001b[0mclock2\u001b[0m\u001b[0;34m(\u001b[0m\u001b[0;34m)\u001b[0m\u001b[0;34m\u001b[0m\u001b[0m\n\u001b[1;32m   1182\u001b[0m             \u001b[0mout\u001b[0m \u001b[0;34m=\u001b[0m \u001b[0;32mNone\u001b[0m\u001b[0;34m\u001b[0m\u001b[0m\n",
      "\u001b[0;32m<timed exec>\u001b[0m in \u001b[0;36m<module>\u001b[0;34m()\u001b[0m\n",
      "\u001b[0;32m<timed exec>\u001b[0m in \u001b[0;36msolve_tsp_with_lp\u001b[0;34m(n, distance_function)\u001b[0m\n",
      "\u001b[0;32m<timed exec>\u001b[0m in \u001b[0;36m<listcomp>\u001b[0;34m(.0)\u001b[0m\n",
      "\u001b[0;31mKeyError\u001b[0m: (0, 1)"
     ]
    }
   ],
   "source": [
    "%%time\n",
    "def solve_tsp_with_lp(n: int, distance_function: Callable[[int, int], int]) -> List[int]:\n",
    "    problem = pulp.LpProblem(name=\"Transport Problem to LP\", sense=pulp.LpMinimize)\n",
    "    x = pulp.LpVariable.dicts('x', range(0, n),lowBound = 0,upBound = 1,cat = pulp.LpInteger)\n",
    "    u = pulp.LpVariable.dicts('u', list(fact(range(0,n), 2)),lowBound = 1,upBound = n,cat = pulp.LpInteger)\n",
    "    lp.objective = pulp.LpAffineExpression(\n",
    "        [(x[e], distance_function(e[0] + 1, e[1] + 1)) for e in list(fact(range(0,n), 2))]\n",
    "    )\n",
    "    \n",
    "    for i in range(n):\n",
    "        lp += pulp.LpAffineExpression([(x[edge], 1)\n",
    "                                for edge in list(fact if edge[0] == i]) == 1\n",
    "        \n",
    "        lp += pulp.LpAffineExpression([(x[edge], 1)\n",
    "                                for edge in list(fact if edge[1] == i]) == 1\n",
    "       \n",
    "    for edge in list(fact(all_vertices, 2)):\n",
    "        k, j = edge[0], edge[1]\n",
    "        if j == 0:\n",
    "            pass\n",
    "        lp += (u[k] - u[j] + n * x[edge] <= n - 1) \n",
    "    lp.solve()\n",
    "    print(lp.objective.value())\n",
    "    tmp = 0\n",
    "    \n",
    "    return list(map(lambda a: a + 1, route))\n",
    "\n",
    "print(' ⟶ '.join(map(str, solve_tsp_with_lp(15, dist15))))"
   ]
  },
  {
   "cell_type": "markdown",
   "metadata": {},
   "source": [
    "## Как использовать библиотеку PuLP\n",
    "\n",
    "Допустим, Вам нужно решить задачу СЦЛП: \\begin{array}{lll}\n",
    "2x+4y+3z & \\to & \\max,\\\\\n",
    "x,y,z &\\ge& 0,\\\\\n",
    "x,y&\\in& \\mathbb{Z},\\\\\n",
    "5x+2y&\\le& 10,\\\\\n",
    "7x+y &\\le& 9,\\\\\n",
    "3x+8z &\\le& 11.\n",
    "\\end{array}\n",
    "\n",
    "Ниже приведён достаточно само-описательный код программы, которая решает задачу с помощью библиотеки PuLP"
   ]
  },
  {
   "cell_type": "code",
   "execution_count": 1,
   "metadata": {
    "collapsed": false
   },
   "outputs": [
    {
     "name": "stdout",
     "output_type": "stream",
     "text": [
      "1\n",
      "0.0 5.0 1.375\n"
     ]
    }
   ],
   "source": [
    "from pulp import LpVariable, LpProblem, LpConstraint, LpMaximize\n",
    "\n",
    "lp = LpProblem(name='My first linear program in PuLP', sense=LpMaximize)\n",
    "\n",
    "x = LpVariable(name='x', lowBound=0, upBound=None, cat='Integer')\n",
    "y = LpVariable(name='y', lowBound=0, upBound=None, cat='Integer')\n",
    "z = LpVariable(name='z', lowBound=0, upBound=None, cat='Continuous')\n",
    "\n",
    "lp.objective = 2*x + 4*y + 3*z\n",
    "\n",
    "lp += (5*x + 2*y <= 10)\n",
    "lp += (7*x + y <= 9)\n",
    "lp += (3*x + 8*z <= 11)\n",
    "\n",
    "lp_status = lp.solve()\n",
    "\n",
    "print(str(lp_status))\n",
    "print(\n",
    "    x.value(), \n",
    "    y.value(), \n",
    "    z.value()\n",
    ")"
   ]
  }
 ],
 "metadata": {
  "kernelspec": {
   "display_name": "Python 3",
   "language": "python",
   "name": "python3"
  },
  "language_info": {
   "codemirror_mode": {
    "name": "ipython",
    "version": 3
   },
   "file_extension": ".py",
   "mimetype": "text/x-python",
   "name": "python",
   "nbconvert_exporter": "python",
   "pygments_lexer": "ipython3",
   "version": "3.6.0"
  }
 },
 "nbformat": 4,
 "nbformat_minor": 0
}
