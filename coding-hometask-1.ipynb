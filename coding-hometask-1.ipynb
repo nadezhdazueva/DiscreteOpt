{
 "cells": [
  {
   "cell_type": "markdown",
   "metadata": {
    "deletable": true,
    "editable": true
   },
   "source": [
    "# Задание по курсу «Дискретная оптимизация», МФТИ, весна 2017"
   ]
  },
  {
   "cell_type": "markdown",
   "metadata": {
    "deletable": true,
    "editable": true
   },
   "source": [
    "## Задача 1-1\n",
    "## Учимся переводить между decision/evaluation/search на примере Bin Packing\n",
    "\n",
    "**Даны:** \n",
    "* $[w_1, \\dots , w_k], w_i \\in [0, 1]$ — веса грузов  \n",
    "* $n_{\\text{bins}}$ — количество корзин грузоподъемностью 1.\n",
    "\n",
    "Предполагается, что функция `solve_bp_decision(weights, n_bins)` решает «распознавательный» (decision) вариант задачи bin packing. На вход ей подаётся список весов и число корзин. Функция возвращает булевский ответ на вопрос «можно ли заданные веса раскидать по не более чем `n_bins` контейнерам? \n",
    "\n",
    "Напишите содержимое функции `solve_bp_evaluation`, которая возвращает оптимальное число корзин (решает evaluation variant задачи bin packing). \n",
    "\n",
    "Затем напишите содержимое функции `solve_bp_search`, которая возвращает список номеров корзин, которые при каком-нибудь оптимальном распределении присваиваются весам из списка `weights` (корзины нумеруются с единицы). \n",
    "\n",
    "Каждая из следующих функций должна вызывать предыдущую не более чем полиномиальное число раз."
   ]
  },
  {
   "cell_type": "code",
   "execution_count": 27,
   "metadata": {
    "collapsed": false
   },
   "outputs": [
    {
     "name": "stdout",
     "output_type": "stream",
     "text": [
      "Результат 1: False\n",
      "Результат 2: True\n"
     ]
    }
   ],
   "source": [
    "\n",
    "def solve_bp_decision(weights: list, n_bins: int) -> bool:\n",
    "    def able_to_pack(weights: list, bin_capacities) -> bool:\n",
    "        return weights == [] or any( \n",
    "            able_to_pack( weights[:-1], bin_capacities[:i] + [capacity - weights[-1]] + bin_capacities[(i + 1):] ) \n",
    "            for i, capacity in enumerate(bin_capacities) if capacity >= weights[-1] \n",
    "        )\n",
    "    return able_to_pack( sorted(weights), [1.0] * n_bins )\n",
    "print (\"Результат 1:\",solve_bp_decision([0.8, 0.09, 0.4, 0.7], 2))\n",
    "print (\"Результат 2:\", solve_bp_decision([0.8, 0.09, 0.4, 0.7], 3))\n",
    "\n"
   ]
  },
  {
   "cell_type": "code",
   "execution_count": 71,
   "metadata": {
    "collapsed": false
   },
   "outputs": [],
   "source": [
    "def solve_bp_evaluation(weights: list) -> int:\n",
    "    min_n_bins = 0 \n",
    "    max_n_bins = len(weights)    \n",
    "    while max_n_bins - min_n_bins > 1:\n",
    "        av_n_bins = (max_n_bins + min_n_bins) // 2\n",
    "        if solve_bp_decision(weights, av_n_bins ):\n",
    "            max_n_bins = av_n_bins \n",
    "        else:\n",
    "            min_n_bins = av_n_bins \n",
    "    return max_n_bins\n"
   ]
  },
  {
   "cell_type": "code",
   "execution_count": 72,
   "metadata": {
    "collapsed": false
   },
   "outputs": [
    {
     "name": "stdout",
     "output_type": "stream",
     "text": [
      "[1, 1, 2, 3]\n"
     ]
    }
   ],
   "source": [
    "def solve_bp_search(weights: list) -> list:\n",
    "    weights_len = len(weights)\n",
    "    result = []\n",
    "    # capacities = dir(1.0 * solve_bp_evaluation(weights)))\n",
    "    amount = [1.0]*solve_bp_evaluation(weights)\n",
    "    # print (amount)\n",
    "    for (i, current) in enumerate(weights):\n",
    "        for bin_number in range(weights_len):\n",
    "            a = amount[bin_number]\n",
    "            if current > amount[bin_number]:\n",
    "                amount[bin_number] += current\n",
    "            else:\n",
    "                amount[bin_number] -= current\n",
    "                if able_to_pack(weights[i + 1:], amount):\n",
    "                    result.append(bin_number + 1)\n",
    "                break\n",
    "    return result\n",
    "answer = solve_bp_search([0.8, 0.09, 0.4, 0.7])\n",
    "print (answer)"
   ]
  },
  {
   "cell_type": "code",
   "execution_count": null,
   "metadata": {
    "collapsed": true
   },
   "outputs": [],
   "source": []
  }
 ],
 "metadata": {
  "kernelspec": {
   "display_name": "Python 3",
   "language": "python",
   "name": "python3"
  },
  "language_info": {
   "codemirror_mode": {
    "name": "ipython",
    "version": 3
   },
   "file_extension": ".py",
   "mimetype": "text/x-python",
   "name": "python",
   "nbconvert_exporter": "python",
   "pygments_lexer": "ipython3",
   "version": "3.6.0"
  }
 },
 "nbformat": 4,
 "nbformat_minor": 0
}
