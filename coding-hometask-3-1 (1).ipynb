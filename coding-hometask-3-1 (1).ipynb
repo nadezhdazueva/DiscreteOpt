{
 "cells": [
  {
   "cell_type": "markdown",
   "metadata": {
    "deletable": true,
    "editable": true
   },
   "source": [
    "# Задание по курсу «Дискретная оптимизация», МФТИ, весна 2017"
   ]
  },
  {
   "cell_type": "markdown",
   "metadata": {
    "collapsed": true,
    "deletable": true,
    "editable": true
   },
   "source": [
    "## Задача 3-1. Задача TSP: инкрементальные алгоритмы.\n",
    "\n",
    "В этой задаче Вам предлагается сравнить алгоритмы Nearest Neighbour и Nearest Insertion в задаче Euclidean TSP.\n",
    "\n",
    "**Даны:**\n",
    "* Координаты точек плоскости, являющихся вершинами графа.\n",
    "\n",
    "**Найти:**\n",
    "* Перестановку вершин, задающих минимальный по длине гамильтонов цикл в графе.\n",
    "\n",
    "Сделайте следующее:\n",
    "* Скачайте файл [`tsp-instances.zip`](https://github.com/dainiak/discrete-optimization-course/raw/master/tsp-instances.zip) и разархивируйте из него файлы со входами задачи TSP.\n",
    "* Реализуйте функции `solve_tsp_nearest_neighbour` и `solve_tsp_nearest_insertion`.\n",
    "* Запустите функцию `run_all()`, чтобы протестировать свой код и сравнить качество решений, получаемых Nearest Neighbour и Nearest Insertion. Сильно ли они отличаются? Запишите свои качественные выводы в 1-2 предложениях в последней ячейке ipynb-файла."
   ]
  },
  {
   "cell_type": "code",
   "execution_count": 11,
   "metadata": {
    "collapsed": false,
    "deletable": true,
    "editable": true
   },
   "outputs": [],
   "source": [
    "\n",
    "import numpy as np\n",
    "def read_tsp_instance(filename):\n",
    "    with open(filename, 'r') as file:\n",
    "        coordinates = []\n",
    "        for line in file:\n",
    "            line = line.strip().lower()\n",
    "            if line.startswith('dimension'):\n",
    "                coordinates = [(0,0)] * int(line.split()[-1])\n",
    "            tokens = line.split()\n",
    "            if len(tokens) == 3 and tokens[0].isdecimal():\n",
    "                tokens = line.split()\n",
    "                coordinates[int(tokens[0])-1] = tuple(map(float, tokens[1:]))\n",
    "        return coordinates\n",
    "\n",
    "def euclidean_distance(point1: tuple, point2: tuple) -> float:\n",
    "    distance = (np.sum((np.array(point1) - np.array(point2))**2))**(1/2)\n",
    "    return distance\n",
    "def euclidean_distance_NP_sq(p: np.array, q: np.array) -> float:\n",
    "    distance = np.sqrt((p[0] - q[0]) ** 2 + (p[1] - q[1]) ** 2)\n",
    "    return distance\n",
    "\n",
    "def calculate_tour_length(instance, permutation):\n",
    "    n = len(permutation)\n",
    "    return sum(euclidean_distance(instance[permutation[i]], \n",
    "                                  instance[permutation[(i+1) % n]]) for i in range(len(permutation)))"
   ]
  },
  {
   "cell_type": "code",
   "execution_count": 12,
   "metadata": {
    "collapsed": false,
    "deletable": true,
    "editable": true
   },
   "outputs": [],
   "source": [
    "def solve_tsp_nearest_neighbour(instance):\n",
    "    waitForVisit = np.array(range(1, len(instance)))\n",
    "    ans = np.array([0]) \n",
    "    for it in range(1, len(instance)):\n",
    "        distances = np.array([euclidean_distance(ans[-1], waitForVisit[kt]) for kt in range(len(instance) - it)])\n",
    "        return np.insert(ans, it, waitForVisit[np.argmin(distances)])"
   ]
  },
  {
   "cell_type": "code",
   "execution_count": 13,
   "metadata": {
    "collapsed": false,
    "deletable": true,
    "editable": true
   },
   "outputs": [],
   "source": [
    "def solve_tsp_nearest_insertion(instance):\n",
    "    ans = np.array([0])\n",
    "    tmp = np.array([list(k) for k in instance])\n",
    "    waitForVisit = np.array(range(1, len(tmp)))\n",
    "    for l in range(1, len(tmp)):\n",
    "        In = tmp[ans]\n",
    "        arr1 = np.array([x.T for x in (np.tile(In, len(tmp) - l).reshape((2, len(tmp) - l, l)))])\n",
    "        Out = tmp[waitForVisit]\n",
    "        arr2 = np.tile(Out, l).reshape((2, l, len(tmp) - l))\n",
    "        D = euclidean_distance_NP_sq(arr1, arr2)\n",
    "        InEd = (np.argmin((D + np.roll(D, 1, axis=0)).T - \n",
    "                                  np.array([euclidean_distance(tmp[ans[k - 1]], ans[k]) \n",
    "                                            for k in range(l)]))) % l\n",
    "        OutEd = (np.argmin((D + np.roll(D, 1, axis=0)).T - \n",
    "                                    np.array([euclidean_distance(tmp[ans[k - 1]], ans[k]) \n",
    "                                              for k in range(l)]))) // l\n",
    "        return np.insert(ans, InEd, waitForVisit[OutEd])"
   ]
  },
  {
   "cell_type": "code",
   "execution_count": 14,
   "metadata": {
    "collapsed": false,
    "deletable": true,
    "editable": true
   },
   "outputs": [],
   "source": [
    "import time\n",
    "from os.path import exists\n",
    "\n",
    "def run_all():\n",
    "    instance_filenames = ['d198.tsp', 'd493.tsp', 'd657.tsp', 'd2103.tsp', 'pr107.tsp', 'pr152.tsp', 'pr439.tsp']\n",
    "    for filename in instance_filenames:\n",
    "        if not exists(filename):\n",
    "            print('File not found: “{}”. Skipping this instance.'.format(filename))\n",
    "            continue\n",
    "        instance = read_tsp_instance(filename)\n",
    "        print('Solving instance {}…'.format(filename), end='')\n",
    "        time_start = time.monotonic()\n",
    "        quality_nn = calculate_tour_length(instance, solve_tsp_nearest_neighbour(instance))\n",
    "        time_nn = time.monotonic()-time_start\n",
    "        time_start = time.monotonic()\n",
    "        quality_ni = calculate_tour_length(instance, solve_tsp_nearest_insertion(instance))\n",
    "        time_ni = time.monotonic()-time_start\n",
    "        print(' done in {:.2} seconds with tour length {} using NN and in {:.2} seconds with tour length {} using NI'.format(time_nn, int(quality_nn), time_ni, int(quality_ni)))"
   ]
  },
  {
   "cell_type": "code",
   "execution_count": 15,
   "metadata": {
    "collapsed": false,
    "deletable": true,
    "editable": true
   },
   "outputs": [
    {
     "name": "stdout",
     "output_type": "stream",
     "text": [
      "Solving instance d198.tsp… done in 0.0029 seconds with tour length 2277 using NN and in 0.00064 seconds with tour length 2277 using NI\n",
      "Solving instance d493.tsp… done in 0.018 seconds with tour length 3828 using NN and in 0.0019 seconds with tour length 5707 using NI\n",
      "Solving instance d657.tsp… done in 0.021 seconds with tour length 2633 using NN and in 0.0019 seconds with tour length 3647 using NI\n",
      "Solving instance d2103.tsp… done in 0.044 seconds with tour length 2201 using NN and in 0.0017 seconds with tour length 3714 using NI\n",
      "Solving instance pr107.tsp… done in 0.0011 seconds with tour length 800 using NN and in 0.0003 seconds with tour length 4600 using NI\n",
      "Solving instance pr152.tsp… done in 0.0015 seconds with tour length 2300 using NN and in 0.00039 seconds with tour length 2300 using NI\n",
      "Solving instance pr439.tsp… done in 0.004 seconds with tour length 538 using NN and in 0.00057 seconds with tour length 1856 using NI\n"
     ]
    }
   ],
   "source": [
    "run_all()"
   ]
  },
  {
   "cell_type": "markdown",
   "metadata": {
    "collapsed": true,
    "deletable": true,
    "editable": true
   },
   "source": [
    "## Выводы\n",
    "Если сравнивать алгоритм ближайших вставок, то видим, что для большей части тестов он работает хуже на конкретно этих тестах. Его энергопотребление в полтора раза больше, по сравнению с алгоритмом ближайшего соседа.\n",
    "В то же время алгоритм ближайшего соседа в разы проще реализуем, чем алгоритм ближайших вставок, который применим больше в случае, когда мы не знаем принципиальных различий. На практике же чаще используется алгоритм ближайшего соседа с различными эвристиками. "
   ]
  },
  {
   "cell_type": "code",
   "execution_count": null,
   "metadata": {
    "collapsed": true
   },
   "outputs": [],
   "source": []
  }
 ],
 "metadata": {
  "kernelspec": {
   "display_name": "Python 3",
   "language": "python",
   "name": "python3"
  },
  "language_info": {
   "codemirror_mode": {
    "name": "ipython",
    "version": 3
   },
   "file_extension": ".py",
   "mimetype": "text/x-python",
   "name": "python",
   "nbconvert_exporter": "python",
   "pygments_lexer": "ipython3",
   "version": "3.6.0"
  }
 },
 "nbformat": 4,
 "nbformat_minor": 0
}
